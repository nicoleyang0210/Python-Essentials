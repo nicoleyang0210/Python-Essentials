{
 "cells": [
  {
   "cell_type": "markdown",
   "metadata": {},
   "source": [
    "### Create a timer using while loop"
   ]
  },
  {
   "cell_type": "code",
   "execution_count": 1,
   "metadata": {},
   "outputs": [
    {
     "name": "stdout",
     "output_type": "stream",
     "text": [
      "Enter your time: 10\n",
      "10\n",
      "9\n",
      "8\n",
      "7\n",
      "6\n",
      "5\n",
      "4\n",
      "3\n",
      "2\n",
      "1\n",
      "0\n"
     ]
    }
   ],
   "source": [
    "from time import sleep\n",
    "seconds = int(input(\"Enter your time: \"))\n",
    "while seconds>=0:\n",
    "    print(seconds)\n",
    "    sleep(1)\n",
    "    seconds-=1"
   ]
  },
  {
   "cell_type": "markdown",
   "metadata": {},
   "source": [
    "### Guessing game using for loop"
   ]
  },
  {
   "cell_type": "code",
   "execution_count": 2,
   "metadata": {},
   "outputs": [
    {
     "name": "stdout",
     "output_type": "stream",
     "text": [
      "Welcome to the Number Guessing Game!\n",
      "I'm thinking of a number between 1 and 10.\n",
      "Attempt 1/3 - Enter your guess: 3\n",
      "Too low! Try again.\n",
      "Attempt 2/3 - Enter your guess: 8\n",
      "Too high! Try again.\n",
      "Attempt 3/3 - Enter your guess: 6\n",
      "Too low! Try again.\n",
      "Sorry, you've used all 3 attempts. The correct number was 7.\n"
     ]
    }
   ],
   "source": [
    "import random\n",
    "\n",
    "def guess_number_game():\n",
    "    print(\"Welcome to the Number Guessing Game!\")\n",
    "    print(\"I'm thinking of a number between 1 and 10.\")\n",
    "\n",
    "    secret_number = random.randint(1, 10)\n",
    "    \n",
    "    # Set the number of attempts\n",
    "    max_attempts = 3\n",
    "    \n",
    "    for attempt in range(1, max_attempts + 1):\n",
    "        guess = int(input(f\"Attempt {attempt}/{max_attempts} - Enter your guess: \"))\n",
    "        \n",
    "        # Check if the guess is correct\n",
    "        if guess < secret_number:\n",
    "            print(\"Too low! Try again.\")\n",
    "        elif guess > secret_number:\n",
    "            print(\"Too high! Try again.\")\n",
    "        else:\n",
    "            print(f\"Congratulations! You guessed the correct number {secret_number} in {attempt} attempts.\")\n",
    "            break\n",
    "    else:\n",
    "        print(f\"Sorry, you've used all {max_attempts} attempts. The correct number was {secret_number}.\")\n",
    "\n",
    "guess_number_game()"
   ]
  }
 ],
 "metadata": {
  "kernelspec": {
   "display_name": "Python 3",
   "language": "python",
   "name": "python3"
  },
  "language_info": {
   "codemirror_mode": {
    "name": "ipython",
    "version": 3
   },
   "file_extension": ".py",
   "mimetype": "text/x-python",
   "name": "python",
   "nbconvert_exporter": "python",
   "pygments_lexer": "ipython3",
   "version": "3.7.6"
  }
 },
 "nbformat": 4,
 "nbformat_minor": 4
}
